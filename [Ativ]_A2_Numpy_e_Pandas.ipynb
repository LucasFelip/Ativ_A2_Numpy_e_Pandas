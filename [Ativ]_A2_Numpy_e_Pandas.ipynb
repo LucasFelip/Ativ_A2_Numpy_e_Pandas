{
  "nbformat": 4,
  "nbformat_minor": 0,
  "metadata": {
    "colab": {
      "provenance": [],
      "collapsed_sections": [
        "wTdBf5twW3Mx"
      ],
      "toc_visible": true,
      "authorship_tag": "ABX9TyMnNW1fZ9n84rNE+Mv0Q8uu",
      "include_colab_link": true
    },
    "kernelspec": {
      "name": "python3",
      "display_name": "Python 3"
    },
    "language_info": {
      "name": "python"
    }
  },
  "cells": [
    {
      "cell_type": "markdown",
      "metadata": {
        "id": "view-in-github",
        "colab_type": "text"
      },
      "source": [
        "<a href=\"https://colab.research.google.com/github/LucasFelip/Ativ_A2_Numpy_e_Pandas/blob/main/%5BAtiv%5D_A2_Numpy_e_Pandas.ipynb\" target=\"_parent\"><img src=\"https://colab.research.google.com/assets/colab-badge.svg\" alt=\"Open In Colab\"/></a>"
      ]
    },
    {
      "cell_type": "markdown",
      "source": [
        "# Numpy"
      ],
      "metadata": {
        "id": "wTdBf5twW3Mx"
      }
    },
    {
      "cell_type": "markdown",
      "source": [
        "1 - Crie um array numpy de tamanho 7x7 com valores aleatórios inteiros entre 1 e 100 (inclusive). Em seguida, encontre o valor máximo e o valor mínimo em cada linha do array."
      ],
      "metadata": {
        "id": "oh8VvZW9XZSe"
      }
    },
    {
      "cell_type": "code",
      "source": [
        "import numpy as np\n",
        "\n",
        "np.random.seed(40)\n",
        "arr = np.random.randint(1, 101, size=(7,7))\n",
        "max_por_linha = np.max(arr, axis=1)\n",
        "min_por_linha = np.min(arr, axis=1)\n",
        "\n",
        "print(\"Array:\")\n",
        "print(arr)\n",
        "print(\"\\nValor máximo por linha:\")\n",
        "print(max_por_linha)\n",
        "print(\"\\nValor mínimo por linha:\")\n",
        "print(min_por_linha)"
      ],
      "metadata": {
        "colab": {
          "base_uri": "https://localhost:8080/"
        },
        "id": "OzS5_R7fXdT0",
        "outputId": "c938c0aa-93f5-47ab-bda2-db177fa9a554"
      },
      "execution_count": null,
      "outputs": [
        {
          "output_type": "stream",
          "name": "stdout",
          "text": [
            "Array:\n",
            "[[ 71  92   8  38  57  51  66]\n",
            " [ 13  72  20  32  75  56  84]\n",
            " [ 60  92  74  97  50  54  74]\n",
            " [  9  53  31  80  15  93  59]\n",
            " [ 75  23   4  92 100  72  56]\n",
            " [ 84  29  14  38  83  51  80]\n",
            " [ 68  31  61  45  47  88  44]]\n",
            "\n",
            "Valor máximo por linha:\n",
            "[ 92  84  97  93 100  84  88]\n",
            "\n",
            "Valor mínimo por linha:\n",
            "[ 8 13 50  9  4 14 31]\n"
          ]
        }
      ]
    },
    {
      "cell_type": "markdown",
      "source": [
        "2 - Crie um array numpy de tamanho 6x5 com valores aleatórios entre -5 e 5 (inclusive). Em seguida, normalize o array, ou seja, subtraia a média de cada coluna e divida pelo desvio padrão."
      ],
      "metadata": {
        "id": "4yhTG81MXovD"
      }
    },
    {
      "cell_type": "code",
      "source": [
        "import numpy as np\n",
        "\n",
        "np.random.seed(40)\n",
        "arr = np.random.uniform(low=-5, high=5, size=(6,5))\n",
        "arr_norm = (arr - np.mean(arr, axis=0)) / np.std(arr, axis=0)\n",
        "\n",
        "print(\"Array:\")\n",
        "print(arr)\n",
        "print(\"\\nArray normalizado:\")\n",
        "print(arr_norm)"
      ],
      "metadata": {
        "colab": {
          "base_uri": "https://localhost:8080/"
        },
        "id": "rLAtNzMTXtvY",
        "outputId": "6a0905c6-3642-4e0a-b6be-1ab79fe096b4"
      },
      "execution_count": null,
      "outputs": [
        {
          "output_type": "stream",
          "name": "stdout",
          "text": [
            "Array:\n",
            "[[-0.92312972 -4.4463396   2.88534877 -2.12694815 -0.49649413]\n",
            " [-1.96087695  0.26399524  1.23812213  2.76775458  1.86241645]\n",
            " [ 4.80938863  1.00816092  3.1396852   2.08645152 -4.7246532 ]\n",
            " [ 4.04267217 -0.50095149 -3.81075346  3.35300176 -2.97751774]\n",
            " [-3.25797329 -0.5085292   1.69794781  4.57399109  3.33333251]\n",
            " [ 0.08309965  1.30023548  3.35034686 -0.52668355  2.62290474]]\n",
            "\n",
            "Array normalizado:\n",
            "[[-0.46508106 -2.08674111  0.59704166 -1.65488001 -0.14592152]\n",
            " [-0.81263672  0.39178233 -0.07263407  0.46842508  0.64874253]\n",
            " [ 1.45481733  0.78335366  0.70044148  0.17287818 -1.57029344]\n",
            " [ 1.19803355 -0.01072374 -2.12524138  0.72230329 -0.9817227 ]\n",
            " [-1.24705194 -0.01471105  0.11430687  1.25196423  1.14426115]\n",
            " [-0.12808115  0.9370399   0.78608543 -0.96069077  0.90493398]]\n"
          ]
        }
      ]
    },
    {
      "cell_type": "markdown",
      "source": [
        "3 - Crie um array numpy de tamanho 8x8 com valores aleatórios entre 0 e 1 (exclusive). Em seguida, crie um novo array onde todos os valores menores que 0.5 são substituídos por 0 e todos os valores maiores ou iguais a 0.5 são substituídos por 1."
      ],
      "metadata": {
        "id": "O1tBU_LIYA5B"
      }
    },
    {
      "cell_type": "code",
      "source": [
        "import numpy as np\n",
        "\n",
        "np.random.seed(40)\n",
        "arr = np.random.rand(8,8)\n",
        "arr_bin = np.where(arr < 0.5, 0, 1)\n",
        "\n",
        "print(\"Array:\")\n",
        "print(arr)\n",
        "print(\"\\nArray binarizado:\")\n",
        "print(arr_bin)"
      ],
      "metadata": {
        "colab": {
          "base_uri": "https://localhost:8080/"
        },
        "id": "uPHzH3KXYLkZ",
        "outputId": "4b020ccb-6098-4099-9878-4c4c6f1357ee"
      },
      "execution_count": null,
      "outputs": [
        {
          "output_type": "stream",
          "name": "stdout",
          "text": [
            "Array:\n",
            "[[0.40768703 0.05536604 0.78853488 0.28730518 0.45035059 0.30391231\n",
            "  0.52639952 0.62381221]\n",
            " [0.77677546 0.68624165 0.98093886 0.60081609 0.81396852 0.70864515\n",
            "  0.02753468 0.90426722]\n",
            " [0.44990485 0.11892465 0.83530018 0.20224823 0.17420267 0.44914708\n",
            "  0.66979478 0.95739911]\n",
            " [0.83333325 0.50830996 0.63002355 0.83503469 0.44733165 0.76229047\n",
            "  0.63692224 0.36229589]\n",
            " [0.01457455 0.54198489 0.31815548 0.14499035 0.54889195 0.18748127\n",
            "  0.39898148 0.24003821]\n",
            " [0.03665485 0.56854476 0.9227648  0.17905511 0.70307767 0.7200128\n",
            "  0.03106402 0.58282531]\n",
            " [0.6976776  0.90985347 0.96669799 0.83572953 0.95112137 0.50632553\n",
            "  0.19449838 0.06964475]\n",
            " [0.92579567 0.39132648 0.40817073 0.17090505 0.13234514 0.50998058\n",
            "  0.34074415 0.4569195 ]]\n",
            "\n",
            "Array binarizado:\n",
            "[[0 0 1 0 0 0 1 1]\n",
            " [1 1 1 1 1 1 0 1]\n",
            " [0 0 1 0 0 0 1 1]\n",
            " [1 1 1 1 0 1 1 0]\n",
            " [0 1 0 0 1 0 0 0]\n",
            " [0 1 1 0 1 1 0 1]\n",
            " [1 1 1 1 1 1 0 0]\n",
            " [1 0 0 0 0 1 0 0]]\n"
          ]
        }
      ]
    },
    {
      "cell_type": "markdown",
      "source": [
        "4 - Crie um array numpy de tamanho 10x5 com valores aleatórios inteiros entre 0 e 9 (inclusive). Em seguida, conte quantas vezes cada número aparece em todo o array."
      ],
      "metadata": {
        "id": "Y7nXe94LYaTo"
      }
    },
    {
      "cell_type": "code",
      "source": [
        "import numpy as np\n",
        "\n",
        "np.random.seed(42)\n",
        "arr = np.random.randint(0, 10, (10,5))\n",
        "\n",
        "unique, counts = np.unique(arr, return_counts=True)\n",
        "\n",
        "print(\"Array:\")\n",
        "print(arr)\n",
        "print(\"\\nContagem:\")\n",
        "print(dict(zip(unique, counts)))"
      ],
      "metadata": {
        "colab": {
          "base_uri": "https://localhost:8080/"
        },
        "id": "mZnUQD52Ycsg",
        "outputId": "c52e7356-9f35-4174-b805-1203e50a8020"
      },
      "execution_count": null,
      "outputs": [
        {
          "output_type": "stream",
          "name": "stdout",
          "text": [
            "Array:\n",
            "[[6 3 7 4 6]\n",
            " [9 2 6 7 4]\n",
            " [3 7 7 2 5]\n",
            " [4 1 7 5 1]\n",
            " [4 0 9 5 8]\n",
            " [0 9 2 6 3]\n",
            " [8 2 4 2 6]\n",
            " [4 8 6 1 3]\n",
            " [8 1 9 8 9]\n",
            " [4 1 3 6 7]]\n",
            "\n",
            "Contagem:\n",
            "{0: 2, 1: 5, 2: 5, 3: 5, 4: 7, 5: 3, 6: 7, 7: 6, 8: 5, 9: 5}\n"
          ]
        }
      ]
    },
    {
      "cell_type": "markdown",
      "source": [
        "5 - Utilize o dataset \"Iris\" (disponível em https://archive.ics.uci.edu/ml/datasets/iris) para realizar a seguinte tarefa: crie um array numpy apenas com os valores da largura da sépala de todas as flores da espécie Iris-versicolor. Em seguida, calcule a média e o desvio padrão desses valores."
      ],
      "metadata": {
        "id": "u1jDuRBtYiXQ"
      }
    },
    {
      "cell_type": "code",
      "source": [
        "import numpy as np\n",
        "import urllib.request\n",
        "\n",
        "url = 'https://archive.ics.uci.edu/ml/machine-learning-databases/iris/iris.data'\n",
        "response = urllib.request.urlopen(url)\n",
        "iris_data = response.read().decode('utf-8')\n",
        "iris_data = iris_data.split('\\n')[:-1]\n",
        "\n",
        "versicolor_sepal_width = []\n",
        "for row in iris_data:\n",
        "    iris = row.split(',')\n",
        "    if len(iris) == 5 and iris[4] == 'Iris-versicolor':\n",
        "        versicolor_sepal_width.append(float(iris[1]))\n",
        "\n",
        "versicolor_sepal_width = np.array(versicolor_sepal_width)\n",
        "\n",
        "mean = np.mean(versicolor_sepal_width)\n",
        "std = np.std(versicolor_sepal_width)\n",
        "\n",
        "print(\"Média: {:.2f}\".format(mean))\n",
        "print(\"Desvio padrão: {:.2f}\".format(std))"
      ],
      "metadata": {
        "colab": {
          "base_uri": "https://localhost:8080/"
        },
        "id": "ABtCZvP6Y6Sn",
        "outputId": "ebd32de6-7ccb-4745-9fc6-7ae84bdbf8ae"
      },
      "execution_count": null,
      "outputs": [
        {
          "output_type": "stream",
          "name": "stdout",
          "text": [
            "Média: 2.77\n",
            "Desvio padrão: 0.31\n"
          ]
        }
      ]
    },
    {
      "cell_type": "markdown",
      "source": [
        "# Pandas"
      ],
      "metadata": {
        "id": "15MSK_shW9dQ"
      }
    },
    {
      "cell_type": "markdown",
      "source": [
        "1 - Crie uma Series com os valores [10, 20, 30, 40, 50], indexada por ['a', 'b', 'c', 'd', 'e']."
      ],
      "metadata": {
        "id": "7QJDdBPUbDGr"
      }
    },
    {
      "cell_type": "code",
      "source": [
        "import pandas as pd\n",
        "\n",
        "data = [10, 20, 30, 40, 50]\n",
        "index = ['a', 'b', 'c', 'd', 'e']\n",
        "s = pd.Series(data, index=index)\n",
        "\n",
        "print(s)"
      ],
      "metadata": {
        "colab": {
          "base_uri": "https://localhost:8080/"
        },
        "id": "OkhlMmzobF7y",
        "outputId": "98ce91f6-58b7-40c2-af6e-cde4bfedb626"
      },
      "execution_count": null,
      "outputs": [
        {
          "output_type": "stream",
          "name": "stdout",
          "text": [
            "a    10\n",
            "b    20\n",
            "c    30\n",
            "d    40\n",
            "e    50\n",
            "dtype: int64\n"
          ]
        }
      ]
    },
    {
      "cell_type": "markdown",
      "source": [
        "2 - Crie um DataFrame com as colunas 'nome', 'idade' e 'cidade', contendo as seguintes informações: ('João', 30, 'São Paulo'), ('Maria', 25, 'Rio de Janeiro'), ('Pedro', 35, 'Belo Horizonte')."
      ],
      "metadata": {
        "id": "IKgumJ98bI7-"
      }
    },
    {
      "cell_type": "code",
      "source": [
        "import pandas as pd\n",
        "\n",
        "data = {'nome': ['João', 'Maria', 'Pedro'],\n",
        "        'idade': [30, 25, 35],\n",
        "        'cidade': ['São Paulo', 'Rio de Janeiro', 'Belo Horizonte']}\n",
        "df = pd.DataFrame(data)\n",
        "\n",
        "print(df)"
      ],
      "metadata": {
        "colab": {
          "base_uri": "https://localhost:8080/"
        },
        "id": "SnasvfblbMBf",
        "outputId": "e5fd9836-8fad-4914-979f-06016a2ed2ea"
      },
      "execution_count": null,
      "outputs": [
        {
          "output_type": "stream",
          "name": "stdout",
          "text": [
            "    nome  idade          cidade\n",
            "0   João     30       São Paulo\n",
            "1  Maria     25  Rio de Janeiro\n",
            "2  Pedro     35  Belo Horizonte\n"
          ]
        }
      ]
    },
    {
      "cell_type": "markdown",
      "source": [
        "3 - Crie um Index com as datas '2022-01-01', '2022-01-02' e '2022-01-03'."
      ],
      "metadata": {
        "id": "r79Ak2CdbQuJ"
      }
    },
    {
      "cell_type": "code",
      "source": [
        "import pandas as pd\n",
        "\n",
        "dates = ['2022-01-01', '2022-01-02', '2022-01-03']\n",
        "idx = pd.Index(dates)\n",
        "\n",
        "print(idx)"
      ],
      "metadata": {
        "colab": {
          "base_uri": "https://localhost:8080/"
        },
        "id": "G96DhdQ6bV6I",
        "outputId": "05d881ed-8b0c-498c-fbea-15b5b83c58f9"
      },
      "execution_count": null,
      "outputs": [
        {
          "output_type": "stream",
          "name": "stdout",
          "text": [
            "Index(['2022-01-01', '2022-01-02', '2022-01-03'], dtype='object')\n"
          ]
        }
      ]
    },
    {
      "cell_type": "markdown",
      "source": [
        "4 - Adicione uma nova coluna chamada 'salário' ao DataFrame do exercício 2, contendo as informações [5000, 4000, 6000] para as linhas 'João', 'Maria' e 'Pedro', respectivamente."
      ],
      "metadata": {
        "id": "I1iRF9IQbYyo"
      }
    },
    {
      "cell_type": "code",
      "source": [
        "import pandas as pd\n",
        "\n",
        "df = pd.DataFrame(data)\n",
        "\n",
        "df['salário'] = [5000, 4000, 6000]\n",
        "\n",
        "print(df)"
      ],
      "metadata": {
        "colab": {
          "base_uri": "https://localhost:8080/"
        },
        "id": "pN-w4WFzbb0o",
        "outputId": "5fc448d0-fa2d-4348-e95c-635de73c4160"
      },
      "execution_count": null,
      "outputs": [
        {
          "output_type": "stream",
          "name": "stdout",
          "text": [
            "    nome  idade          cidade  salário\n",
            "0   João     30       São Paulo     5000\n",
            "1  Maria     25  Rio de Janeiro     4000\n",
            "2  Pedro     35  Belo Horizonte     6000\n"
          ]
        }
      ]
    },
    {
      "cell_type": "markdown",
      "source": [
        "5 - Selecione do DataFrame do exercício 4 apenas as linhas com idade maior ou igual a 30 anos."
      ],
      "metadata": {
        "id": "dWinSPg5cUXv"
      }
    },
    {
      "cell_type": "code",
      "source": [
        "df_above_30 = df[df['idade'] >= 30]\n",
        "\n",
        "print(df_above_30)"
      ],
      "metadata": {
        "colab": {
          "base_uri": "https://localhost:8080/"
        },
        "id": "IHidnJjOcVQe",
        "outputId": "b0a3611e-0e7a-4fc6-c2dd-bfc2660eb107"
      },
      "execution_count": 25,
      "outputs": [
        {
          "output_type": "stream",
          "name": "stdout",
          "text": [
            "    nome  idade          cidade  salário\n",
            "0   João     30       São Paulo     5000\n",
            "2  Pedro     35  Belo Horizonte     6000\n"
          ]
        }
      ]
    }
  ]
}